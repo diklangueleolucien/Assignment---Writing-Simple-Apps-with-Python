{
  "nbformat": 4,
  "nbformat_minor": 0,
  "metadata": {
    "colab": {
      "name": "phone_code_ocean.ipynb",
      "provenance": [],
      "collapsed_sections": []
    },
    "kernelspec": {
      "name": "python3",
      "display_name": "Python 3"
    },
    "language_info": {
      "name": "python"
    }
  },
  "cells": [
    {
      "cell_type": "code",
      "execution_count": 11,
      "metadata": {
        "id": "Trn624tECR_-"
      },
      "outputs": [],
      "source": [
        "def phone_code_ocean(county):\n",
        "  dic_code_ocean = {\n",
        "    \"Australia\" :\"61\",\n",
        "    \"Fiji\" :\"679\",\n",
        "    \"Marianas\" :\"1-670\",\n",
        "    \"Niue\" :\"683\",\n",
        "    \"New Caledonia\": \"687\",\n",
        "    \"New Zealand\" :\"64\",\n",
        "    \"Papua New Guinea\" :\"675\",\n",
        "    \"French Polynesia\" :\"689\",\n",
        "    \"Solomon Islands\": \"677\"}\n",
        "  return dic_code_ocean.get(county, \"country not found\")"
      ]
    },
    {
      "cell_type": "code",
      "source": [
        "print(phone_code_ocean(\"Australia\"))"
      ],
      "metadata": {
        "colab": {
          "base_uri": "https://localhost:8080/"
        },
        "id": "af8a2TOQhBh0",
        "outputId": "22fecf8d-76c9-404e-b5fe-5956ceae51e6"
      },
      "execution_count": 12,
      "outputs": [
        {
          "output_type": "stream",
          "name": "stdout",
          "text": [
            "61\n"
          ]
        }
      ]
    },
    {
      "cell_type": "code",
      "source": [
        "print(phone_code_ocean(\"cameroon\"))"
      ],
      "metadata": {
        "colab": {
          "base_uri": "https://localhost:8080/"
        },
        "id": "URnN9f_9S-Fo",
        "outputId": "f7c62bd2-0825-47bb-cfce-35d0b6b4a602"
      },
      "execution_count": 13,
      "outputs": [
        {
          "output_type": "stream",
          "name": "stdout",
          "text": [
            "country not found\n"
          ]
        }
      ]
    }
  ]
}