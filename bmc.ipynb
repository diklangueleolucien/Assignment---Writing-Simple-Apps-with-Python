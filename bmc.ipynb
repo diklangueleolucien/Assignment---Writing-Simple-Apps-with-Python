{
  "nbformat": 4,
  "nbformat_minor": 0,
  "metadata": {
    "colab": {
      "name": "bmc.ipynb",
      "provenance": [],
      "collapsed_sections": []
    },
    "kernelspec": {
      "name": "python3",
      "display_name": "Python 3"
    },
    "language_info": {
      "name": "python"
    }
  },
  "cells": [
    {
      "cell_type": "code",
      "execution_count": 1,
      "metadata": {
        "id": "Trn624tECR_-"
      },
      "outputs": [],
      "source": [
        "def bmc(weight,height):\n",
        "  '''\n",
        "  bmc calcul the body masse index\n",
        "\n",
        "  Parameters\n",
        "  ---------- \n",
        "    (weight) person's weight in kg\n",
        "    (height) person's height in m\n",
        "\n",
        "  Returns\n",
        "  ----------\n",
        "    bmc = weight/height**2\n",
        "  '''\n",
        "  return weight/height**2"
      ]
    },
    {
      "cell_type": "code",
      "source": [
        "print(bmc(50,17.3))"
      ],
      "metadata": {
        "colab": {
          "base_uri": "https://localhost:8080/"
        },
        "id": "URnN9f_9S-Fo",
        "outputId": "9d771acb-f21f-4c7c-eeee-9c9d231bf078"
      },
      "execution_count": 4,
      "outputs": [
        {
          "output_type": "stream",
          "name": "stdout",
          "text": [
            "0.16706204684419793\n"
          ]
        }
      ]
    },
    {
      "cell_type": "code",
      "source": [
        "print(bmc.__doc__)"
      ],
      "metadata": {
        "colab": {
          "base_uri": "https://localhost:8080/"
        },
        "id": "4v4t3gJQTOnv",
        "outputId": "248eb7c4-51da-4488-ceff-46f68c95b4d3"
      },
      "execution_count": 5,
      "outputs": [
        {
          "output_type": "stream",
          "name": "stdout",
          "text": [
            "\n",
            "  bmc calcul the body masse index\n",
            "\n",
            "  Args : \n",
            "    weight person's weight in kg\n",
            "    height person's height in m\n",
            "\n",
            "  Returns:\n",
            "    bmc = weight/height**2\n",
            "  \n"
          ]
        }
      ]
    }
  ]
}